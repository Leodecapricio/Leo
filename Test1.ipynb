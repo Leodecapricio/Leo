{
 "cells": [
  {
   "cell_type": "code",
   "execution_count": 3,
   "metadata": {},
   "outputs": [],
   "source": [
    "import requests;\n",
    "import json;"
   ]
  },
  {
   "cell_type": "code",
   "execution_count": 4,
   "metadata": {},
   "outputs": [],
   "source": [
    "URL='https://understat.com/league/EPL';\n",
    "stat1920=requests.get(URL,stream=True);\n",
    "i=0;\n",
    "line=\"\";\n",
    "for lines in stat1920.iter_lines():\n",
    "    if i==212:\n",
    "        line=lines \n",
    "    i+=1;"
   ]
  },
  {
   "cell_type": "code",
   "execution_count": 5,
   "metadata": {},
   "outputs": [],
   "source": [
    "data=\"\";\n",
    "for i in range(31,len(line)-3):\n",
    "    data+=chr(line[i]);"
   ]
  },
  {
   "cell_type": "code",
   "execution_count": 6,
   "metadata": {},
   "outputs": [],
   "source": [
    "playerstats=\"\";\n",
    "i=0;\n",
    "while i<len(data):\n",
    "    if data[i]==str('\\\\'):\n",
    "        i=i+3;\n",
    "    else:\n",
    "        playerstats+=data[i];\n",
    "    i+=1;"
   ]
  },
  {
   "cell_type": "code",
   "execution_count": 7,
   "metadata": {},
   "outputs": [],
   "source": [
    "file3=open('data1920.csv','w');\n",
    "file3.write('id,player_name,games,time,goals,xG,assists,xA,shots,key_passes,yellow_cards,red_cards,position,team_title,npg,npxG,xGChain,xGBuildup,\\n');\n",
    "i=0;\n",
    "k=0;\n",
    "plus=[2,11,5,4,5,2,7,2,5,10,12,10,8,10,3,4,7,9];\n",
    "while i<len(playerstats):\n",
    "    i+=plus[k]+1;\n",
    "    k=(k+1)%18;\n",
    "    while(i<len(playerstats) and playerstats[i]!=str(',')):\n",
    "        file3.write(playerstats[i]);\n",
    "        i+=1;\n",
    "    file3.write(',');\n",
    "    if k==0:\n",
    "        file3.write('\\n');\n",
    "file3.close();"
   ]
  },
  {
   "cell_type": "code",
   "execution_count": null,
   "metadata": {},
   "outputs": [],
   "source": []
  }
 ],
 "metadata": {
  "kernelspec": {
   "display_name": "Python 3",
   "language": "python",
   "name": "python3"
  },
  "language_info": {
   "codemirror_mode": {
    "name": "ipython",
    "version": 3
   },
   "file_extension": ".py",
   "mimetype": "text/x-python",
   "name": "python",
   "nbconvert_exporter": "python",
   "pygments_lexer": "ipython3",
   "version": "3.6.5"
  }
 },
 "nbformat": 4,
 "nbformat_minor": 2
}
